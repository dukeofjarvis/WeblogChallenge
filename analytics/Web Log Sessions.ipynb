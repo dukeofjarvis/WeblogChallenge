{
 "cells": [
  {
   "cell_type": "markdown",
   "metadata": {},
   "source": [
    "# WebLog Challenge"
   ]
  },
  {
   "cell_type": "markdown",
   "metadata": {},
   "source": [
    "## Sessionize by IP"
   ]
  },
  {
   "cell_type": "markdown",
   "metadata": {},
   "source": [
    "### Clean and create temporary folder.  Unzip data."
   ]
  },
  {
   "cell_type": "code",
   "execution_count": 1,
   "metadata": {
    "collapsed": false
   },
   "outputs": [],
   "source": [
    "import shutil\n",
    "import os\n",
    "import gzip\n",
    "\n",
    "scriptpath = os.getcwd()\n",
    "tempdir = '.tmp'\n",
    "\n",
    "if os.path.exists(tempdir):\n",
    "    shutil.rmtree(tempdir)\n",
    "os.makedirs(tempdir)\n",
    "\n",
    "extractedlog = 'web.log'\n",
    "sourcepath = os.path.join(scriptpath, '../data/2015_07_22_mktplace_shop_web_log_sample.log.gz')\n",
    "destpath = os.path.join(scriptpath, tempdir, extractedlog)\n",
    "with gzip.open(sourcepath) as src, open(destpath, 'w') as dest:\n",
    "    content = src.read()\n",
    "    dest.write(content)"
   ]
  },
  {
   "cell_type": "markdown",
   "metadata": {},
   "source": [
    "## Build sessions"
   ]
  },
  {
   "cell_type": "code",
   "execution_count": null,
   "metadata": {
    "collapsed": false
   },
   "outputs": [],
   "source": [
    "from analytics.sessionizer import *\n",
    "from pyspark import SparkContext\n",
    "\n",
    "sessionizer = Sessionizer(sc)\n",
    "sessions_rdd = sessionizer.calc_sessions_from_file(destpath, 15)"
   ]
  },
  {
   "cell_type": "markdown",
   "metadata": {},
   "source": [
    "### Display first 10 sessions"
   ]
  },
  {
   "cell_type": "code",
   "execution_count": null,
   "metadata": {
    "collapsed": false
   },
   "outputs": [],
   "source": [
    "sessions_rdd.take(10)"
   ]
  },
  {
   "cell_type": "markdown",
   "metadata": {},
   "source": [
    "## Average Session Time"
   ]
  },
  {
   "cell_type": "code",
   "execution_count": null,
   "metadata": {
    "collapsed": false
   },
   "outputs": [],
   "source": [
    "avg = sessionizer.average_session_time(sessions_rdd)\n",
    "\n",
    "print 'Average session time(s):' + str(avg)"
   ]
  },
  {
   "cell_type": "markdown",
   "metadata": {},
   "source": [
    "## Unique Visits per Sesions"
   ]
  },
  {
   "cell_type": "code",
   "execution_count": null,
   "metadata": {
    "collapsed": false
   },
   "outputs": [],
   "source": [
    "visits_per_session = sessionizer.unique_visits_per_session(sessions_rdd)\n",
    "\n",
    "for session in visits_per_session[:10]:\n",
    "    print 'Session ID:' + str(session['id']) + ', IP:' + session['ip'] + ', Number of Visits:' + str(session['visits']) "
   ]
  },
  {
   "cell_type": "markdown",
   "metadata": {},
   "source": [
    "## Active Users"
   ]
  },
  {
   "cell_type": "code",
   "execution_count": null,
   "metadata": {
    "collapsed": false
   },
   "outputs": [],
   "source": [
    "most_active_sessions = sessionizer.find_engaged_users(sessions_rdd)\n",
    "\n",
    "for session in most_active_sessions[:10]:\n",
    "    print 'User:' + session['ip'] + ', Duration(s):' + str(session['length']) "
   ]
  },
  {
   "cell_type": "code",
   "execution_count": null,
   "metadata": {
    "collapsed": true
   },
   "outputs": [],
   "source": []
  }
 ],
 "metadata": {
  "kernelspec": {
   "display_name": "Python 2",
   "language": "python",
   "name": "python2"
  },
  "language_info": {
   "codemirror_mode": {
    "name": "ipython",
    "version": 2
   },
   "file_extension": ".py",
   "mimetype": "text/x-python",
   "name": "python",
   "nbconvert_exporter": "python",
   "pygments_lexer": "ipython2",
   "version": "2.7.12"
  }
 },
 "nbformat": 4,
 "nbformat_minor": 0
}
