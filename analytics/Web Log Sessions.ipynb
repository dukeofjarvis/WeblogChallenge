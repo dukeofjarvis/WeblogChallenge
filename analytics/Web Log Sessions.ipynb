{
 "cells": [
  {
   "cell_type": "markdown",
   "metadata": {},
   "source": [
    "# WebLog Challenge"
   ]
  },
  {
   "cell_type": "markdown",
   "metadata": {},
   "source": [
    "## Sessionize by IP"
   ]
  },
  {
   "cell_type": "markdown",
   "metadata": {},
   "source": [
    "### Clean and create temporary folder.  Unzip data."
   ]
  },
  {
   "cell_type": "code",
   "execution_count": 1,
   "metadata": {
    "collapsed": false
   },
   "outputs": [],
   "source": [
    "import shutil\n",
    "import os\n",
    "import gzip\n",
    "\n",
    "scriptpath = os.getcwd()\n",
    "tempdir = '.tmp'\n",
    "\n",
    "if os.path.exists(tempdir):\n",
    "    shutil.rmtree(tempdir)\n",
    "os.makedirs(tempdir)\n",
    "\n",
    "extractedlog = 'web.log'\n",
    "sourcepath = os.path.join(scriptpath, '../data/2015_07_22_mktplace_shop_web_log_sample.log.gz')\n",
    "destpath = os.path.join(scriptpath, tempdir, extractedlog)\n",
    "with gzip.open(sourcepath) as src, open(destpath, 'w') as dest:\n",
    "    content = src.read()\n",
    "    dest.write(content)"
   ]
  },
  {
   "cell_type": "markdown",
   "metadata": {},
   "source": [
    "### Build sessions"
   ]
  },
  {
   "cell_type": "code",
   "execution_count": 2,
   "metadata": {
    "collapsed": false
   },
   "outputs": [],
   "source": [
    "from analytics.sessionizer import *\n",
    "from pyspark import SparkContext\n",
    "\n",
    "sessionizer = Sessionizer(sc)\n",
    "sessions_rdd = sessionizer.calc_sessions_from_file(destpath, 15)"
   ]
  },
  {
   "cell_type": "markdown",
   "metadata": {},
   "source": [
    "### Display first 10 sessions"
   ]
  },
  {
   "cell_type": "code",
   "execution_count": 3,
   "metadata": {
    "collapsed": false
   },
   "outputs": [
    {
     "data": {
      "text/plain": [
       "[{'end': datetime.datetime(2015, 7, 22, 11, 4, 43, 966443, tzinfo=<iso8601.Utc>),\n",
       "  'id': -3925200981616695027,\n",
       "  'ip': u'111.93.191.38',\n",
       "  'requests': [u'paytm.com:443/shop/cart',\n",
       "   u'paytm.com:443/shop/login',\n",
       "   u'paytm.com:443/shop/authresponse',\n",
       "   u'paytm.com:443/shop/v1/frequentorders',\n",
       "   u'paytm.com:443/shop/cart',\n",
       "   u'paytm.com:443/shop/cart',\n",
       "   u'paytm.com:443/shop/cart',\n",
       "   u'paytm.com:443/shop/cart',\n",
       "   u'paytm.com:443/shop/user/address',\n",
       "   u'paytm.com:443/shop/user/address',\n",
       "   u'paytm.com:443/shop/cart',\n",
       "   u'paytm.com:443/shop/cart/checkout'],\n",
       "  'start': datetime.datetime(2015, 7, 22, 11, 3, 6, 822295, tzinfo=<iso8601.Utc>)},\n",
       " {'end': datetime.datetime(2015, 7, 22, 6, 58, 36, 823521, tzinfo=<iso8601.Utc>),\n",
       "  'id': -8762026098901585080,\n",
       "  'ip': u'49.201.18.231',\n",
       "  'requests': [u'paytm.com:443/shop/g/electronics/the-electronic-store/ces-offer-on-pen-drives'],\n",
       "  'start': datetime.datetime(2015, 7, 22, 6, 58, 36, 823521, tzinfo=<iso8601.Utc>)},\n",
       " {'end': datetime.datetime(2015, 7, 22, 18, 2, 37, 67037, tzinfo=<iso8601.Utc>),\n",
       "  'id': 9098634588015019944,\n",
       "  'ip': u'182.58.117.191',\n",
       "  'requests': [u'paytm.com:443/shop/h/electronics',\n",
       "   u'paytm.com:443/shop/cart',\n",
       "   u'paytm.com:443/favicon.ico'],\n",
       "  'start': datetime.datetime(2015, 7, 22, 18, 2, 24, 177041, tzinfo=<iso8601.Utc>)},\n",
       " {'end': datetime.datetime(2015, 7, 22, 10, 34, 47, 481260, tzinfo=<iso8601.Utc>),\n",
       "  'id': 7718732005134578900,\n",
       "  'ip': u'1.39.14.24',\n",
       "  'requests': [u'paytm.com:443/shop/cart',\n",
       "   u'paytm.com:443/shop/p/samsung-32gb-microsdhc-evo-class-10-SAMSUNG_MB-MP32DA_32GB_NULL_136',\n",
       "   u'paytm.com:443/shop/cart',\n",
       "   u'paytm.com:443/shop/p/samsung-32gb-microsdhc-evo-class-10-SAMSUNG_MB-MP32DA_32GB_NULL_136',\n",
       "   u'paytm.com:443/favicon.ico'],\n",
       "  'start': datetime.datetime(2015, 7, 22, 10, 34, 37, 945690, tzinfo=<iso8601.Utc>)},\n",
       " {'end': datetime.datetime(2015, 7, 22, 16, 25, 1, 738696, tzinfo=<iso8601.Utc>),\n",
       "  'id': 7736485509041858338,\n",
       "  'ip': u'1.39.14.24',\n",
       "  'requests': [u'paytm.com:443/',\n",
       "   u'paytm.com:443/shop/cart',\n",
       "   u'paytm.com:443/favicon.ico',\n",
       "   u'paytm.com:443/papi/v1/expresscart/verify',\n",
       "   u'paytm.com:443/papi/v1/expresscart/verify',\n",
       "   u'paytm.com:443/papi/v1/expresscart/verify',\n",
       "   u'paytm.com:443/papi/v1/expresscart/verify'],\n",
       "  'start': datetime.datetime(2015, 7, 22, 16, 23, 49, 803053, tzinfo=<iso8601.Utc>)},\n",
       " {'end': datetime.datetime(2015, 7, 22, 17, 45, 20, 181169, tzinfo=<iso8601.Utc>),\n",
       "  'id': 4812218519646637112,\n",
       "  'ip': u'1.39.14.24',\n",
       "  'requests': [u'paytm.com:443/shop/p/samsung-galaxy-grand-neo-plus-gold-MOBSAMSUNG-GALAMY-D365959A4E0129',\n",
       "   u'paytm.com:443/shop/cart',\n",
       "   u'paytm.com:443/papi/nps/merchantrating',\n",
       "   u'paytm.com:443/papi/v1/promosearch/product/17601472/offers',\n",
       "   u'paytm.com:443/papi/rr/products/17601472/statistics',\n",
       "   u'paytm.com:443/shop/p/samsung-galaxy-grand-neo-plus-white-MOBSAMSUNG-GALAMY-D365953B086BCF'],\n",
       "  'start': datetime.datetime(2015, 7, 22, 17, 42, 43, 248251, tzinfo=<iso8601.Utc>)},\n",
       " {'end': datetime.datetime(2015, 7, 22, 10, 33, 1, 211779, tzinfo=<iso8601.Utc>),\n",
       "  'id': 3106013358129455551,\n",
       "  'ip': u'101.221.136.38',\n",
       "  'requests': [u'paytm.com:443/shop/summary/1116532430',\n",
       "   u'paytm.com:443/shop/cart',\n",
       "   u'paytm.com:443/shop/orderdetail/1116532430'],\n",
       "  'start': datetime.datetime(2015, 7, 22, 10, 32, 38, 386148, tzinfo=<iso8601.Utc>)},\n",
       " {'end': datetime.datetime(2015, 7, 22, 2, 40, 46, 987905, tzinfo=<iso8601.Utc>),\n",
       "  'id': -4702385519142149464,\n",
       "  'ip': u'49.204.42.220',\n",
       "  'requests': [u'paytm.com:443/offer/bus-ticket-discount/',\n",
       "   u'paytm.com:443/bus/promotion',\n",
       "   u'paytm.com:443/offer/wp-content/uploads/2015/03/google_badge_80.png',\n",
       "   u'paytm.com:443/offer/wp-content/uploads/2015/03/apple_badge_80.png',\n",
       "   u'paytm.com:443/offer/wp-content/uploads/2015/03/windows_badge_80.png',\n",
       "   u'paytm.com:443/bus-tickets',\n",
       "   u'paytm.com:443/scripts/web/busTicketPromotion.js',\n",
       "   u'paytm.com:443/scripts/web/angular-datepicker.js',\n",
       "   u'paytm.com:443/scripts/web/services/paytmService.js',\n",
       "   u'paytm.com:443/scripts/web/config/UrlConfig.js',\n",
       "   u'paytm.com:443/scripts/common/config/linkConfig.js',\n",
       "   u'paytm.com:443/scripts/web/config/resourceConfig.js',\n",
       "   u'paytm.com:443/scripts/common/config/ConstantsConfig.js',\n",
       "   u'paytm.com:443/scripts/web/busTicketPromotionCtrl.js',\n",
       "   u'paytm.com:443/images/coupon-tik.png',\n",
       "   u'paytm.com:443/images/transparent.gif',\n",
       "   u'paytm.com:443/shop/cart',\n",
       "   u'paytm.com:443/shop/ad/paytmAd'],\n",
       "  'start': datetime.datetime(2015, 7, 22, 2, 40, 38, 610451, tzinfo=<iso8601.Utc>)},\n",
       " {'end': datetime.datetime(2015, 7, 22, 16, 44, 21, 695274, tzinfo=<iso8601.Utc>),\n",
       "  'id': 1229406845898703329,\n",
       "  'ip': u'117.229.52.93',\n",
       "  'requests': [u'paytm.com:443/papi/v1/expresscart/verify',\n",
       "   u'paytm.com:443/api/v1/expresscart/checkout'],\n",
       "  'start': datetime.datetime(2015, 7, 22, 16, 44, 16, 433673, tzinfo=<iso8601.Utc>)},\n",
       " {'end': datetime.datetime(2015, 7, 22, 10, 39, 24, 49538, tzinfo=<iso8601.Utc>),\n",
       "  'id': 1308011712129677290,\n",
       "  'ip': u'202.167.250.83',\n",
       "  'requests': [u'paytm.com:443/papi/nps/merchantrating',\n",
       "   u'paytm.com:443/papi/v1/promosearch/product/2658914/offers',\n",
       "   u'paytm.com:443/shop/p/thomas-scott-men-s-checkered-formal-shirt-size-38-MFRMALCCADILLY16TSWT38',\n",
       "   u'paytm.com:443/papi/nps/merchantrating',\n",
       "   u'paytm.com:443/papi/nps/merchantrating',\n",
       "   u'paytm.com:443/papi/rr/products/1900577/statistics',\n",
       "   u'paytm.com:443/papi/v1/promosearch/product/1900614/offers',\n",
       "   u'paytm.com:443/papi/v1/promosearch/product/8143919/offers',\n",
       "   u'paytm.com:443/papi/rr/products/8143919/statistics'],\n",
       "  'start': datetime.datetime(2015, 7, 22, 10, 36, 12, 364384, tzinfo=<iso8601.Utc>)}]"
      ]
     },
     "execution_count": 3,
     "metadata": {},
     "output_type": "execute_result"
    }
   ],
   "source": [
    "sessions_rdd.take(10)"
   ]
  },
  {
   "cell_type": "markdown",
   "metadata": {},
   "source": [
    "## Average Session Time"
   ]
  },
  {
   "cell_type": "code",
   "execution_count": 4,
   "metadata": {
    "collapsed": false
   },
   "outputs": [
    {
     "name": "stdout",
     "output_type": "stream",
     "text": [
      "Average session time(s):100\n"
     ]
    }
   ],
   "source": [
    "avg = sessionizer.average_session_time(sessions_rdd)\n",
    "\n",
    "print 'Average session time(s):' + str(avg)"
   ]
  },
  {
   "cell_type": "markdown",
   "metadata": {},
   "source": [
    "## Unique Visits per Sesions"
   ]
  },
  {
   "cell_type": "code",
   "execution_count": 8,
   "metadata": {
    "collapsed": false
   },
   "outputs": [
    {
     "name": "stdout",
     "output_type": "stream",
     "text": [
      "Session ID:-8212373043871481855, IP:122.161.227.47, Number of Visits:1\n",
      "Session ID:-3066943668411170813, IP:122.177.105.81, Number of Visits:5\n",
      "Session ID:-2258161021395140602, IP:116.74.48.135, Number of Visits:3\n",
      "Session ID:6118955677700063233, IP:106.215.154.137, Number of Visits:2\n",
      "Session ID:4648038607161393161, IP:103.255.145.86, Number of Visits:5\n",
      "Session ID:-3060370823484801013, IP:59.89.16.137, Number of Visits:3\n",
      "Session ID:-855732330878205936, IP:43.248.69.104, Number of Visits:3\n",
      "Session ID:5259766095696363537, IP:59.178.201.68, Number of Visits:2\n",
      "Session ID:94247279369125891, IP:115.248.179.194, Number of Visits:2\n",
      "Session ID:1720124910343028756, IP:112.79.36.224, Number of Visits:2\n"
     ]
    }
   ],
   "source": [
    "visits_per_session = sessionizer.unique_visits_per_session(sessions_rdd)\n",
    "\n",
    "it = visits_per_session.iteritems()\n",
    "for i in range(10):\n",
    "    session = it.next()\n",
    "    print 'Session ID:' + str(session[0]) + ', IP:' + session[1]['ip'] + ', Number of Visits:' + str(session[1]['visits']) "
   ]
  },
  {
   "cell_type": "markdown",
   "metadata": {},
   "source": [
    "## Active Users"
   ]
  },
  {
   "cell_type": "code",
   "execution_count": 11,
   "metadata": {
    "collapsed": false
   },
   "outputs": [
    {
     "name": "stdout",
     "output_type": "stream",
     "text": [
      "User:52.74.219.71, Duration(s):2069.161909\n",
      "User:119.81.61.166, Duration(s):2068.84845\n",
      "User:106.186.23.95, Duration(s):2068.756402\n",
      "User:125.19.44.66, Duration(s):2068.71247\n",
      "User:125.20.39.66, Duration(s):2068.320635\n",
      "User:192.8.190.10, Duration(s):2067.234329\n",
      "User:54.251.151.39, Duration(s):2067.022968\n",
      "User:180.211.69.209, Duration(s):2066.960642\n",
      "User:180.179.213.70, Duration(s):2065.63799\n",
      "User:203.189.176.14, Duration(s):2065.594344\n"
     ]
    }
   ],
   "source": [
    "most_active_sessions = sessionizer.find_engaged_users(sessions_rdd)\n",
    "\n",
    "for session in most_active_sessions[:10]:\n",
    "    print 'User:' + session['ip'] + ', Duration(s):' + str(session['length']) "
   ]
  },
  {
   "cell_type": "code",
   "execution_count": null,
   "metadata": {
    "collapsed": true
   },
   "outputs": [],
   "source": []
  }
 ],
 "metadata": {
  "kernelspec": {
   "display_name": "Python 2",
   "language": "python",
   "name": "python2"
  },
  "language_info": {
   "codemirror_mode": {
    "name": "ipython",
    "version": 2
   },
   "file_extension": ".py",
   "mimetype": "text/x-python",
   "name": "python",
   "nbconvert_exporter": "python",
   "pygments_lexer": "ipython2",
   "version": "2.7.12"
  }
 },
 "nbformat": 4,
 "nbformat_minor": 0
}
