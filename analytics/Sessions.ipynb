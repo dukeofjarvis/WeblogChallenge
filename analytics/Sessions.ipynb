{
 "cells": [
  {
   "cell_type": "code",
   "execution_count": 2,
   "metadata": {
    "collapsed": false
   },
   "outputs": [],
   "source": [
    "textFile = sc.textFile(\n",
    "    \"../data/2015_07_22_mktplace_shop_web_log_sample.log\")"
   ]
  },
  {
   "cell_type": "code",
   "execution_count": 3,
   "metadata": {
    "collapsed": false
   },
   "outputs": [
    {
     "name": "stdout",
     "output_type": "stream",
     "text": [
      "[(u'123.242.248.130', datetime.datetime(2015, 7, 22, 9, 0, 28, 19143, tzinfo=<iso8601.Utc>)), (u'203.91.211.44', datetime.datetime(2015, 7, 22, 9, 0, 27, 894580, tzinfo=<iso8601.Utc>)), (u'1.39.32.179', datetime.datetime(2015, 7, 22, 9, 0, 27, 885745, tzinfo=<iso8601.Utc>)), (u'180.179.213.94', datetime.datetime(2015, 7, 22, 9, 0, 28, 48369, tzinfo=<iso8601.Utc>)), (u'120.59.192.208', datetime.datetime(2015, 7, 22, 9, 0, 28, 36251, tzinfo=<iso8601.Utc>)), (u'117.239.195.66', datetime.datetime(2015, 7, 22, 9, 0, 28, 33793, tzinfo=<iso8601.Utc>)), (u'101.60.186.26', datetime.datetime(2015, 7, 22, 9, 0, 28, 55029, tzinfo=<iso8601.Utc>)), (u'59.183.41.47', datetime.datetime(2015, 7, 22, 9, 0, 28, 50298, tzinfo=<iso8601.Utc>)), (u'117.239.195.66', datetime.datetime(2015, 7, 22, 9, 0, 28, 59081, tzinfo=<iso8601.Utc>)), (u'183.83.237.83', datetime.datetime(2015, 7, 22, 9, 0, 28, 54939, tzinfo=<iso8601.Utc>))]\n"
     ]
    }
   ],
   "source": [
    "import iso8601\n",
    "r1 = textFile.map( lambda x : \n",
    "                  (x.split()[2].split(\":\")[0],\n",
    "                   iso8601.parse_date(x.split()[0])))\n",
    "print r1.take(10)"
   ]
  },
  {
   "cell_type": "code",
   "execution_count": 4,
   "metadata": {
    "collapsed": false
   },
   "outputs": [
    {
     "name": "stdout",
     "output_type": "stream",
     "text": [
      "[(u'111.93.191.38', <pyspark.resultiterable.ResultIterable object at 0x7f4800354d50>), (u'117.253.175.177', <pyspark.resultiterable.ResultIterable object at 0x7f47ff01f2d0>), (u'182.58.117.191', <pyspark.resultiterable.ResultIterable object at 0x7f47ff01f390>), (u'1.39.14.24', <pyspark.resultiterable.ResultIterable object at 0x7f47ff01f410>), (u'101.221.136.38', <pyspark.resultiterable.ResultIterable object at 0x7f47ff01f610>), (u'49.204.42.220', <pyspark.resultiterable.ResultIterable object at 0x7f47ff01f690>), (u'117.229.52.93', <pyspark.resultiterable.ResultIterable object at 0x7f47ff01f710>), (u'14.99.104.157', <pyspark.resultiterable.ResultIterable object at 0x7f47ff01f790>), (u'223.188.3.176', <pyspark.resultiterable.ResultIterable object at 0x7f47ff01f810>), (u'182.73.170.82', <pyspark.resultiterable.ResultIterable object at 0x7f47ff01f890>)]\n"
     ]
    }
   ],
   "source": [
    "r2 = r1.groupByKey()\n",
    "print r2.take(10)"
   ]
  },
  {
   "cell_type": "code",
   "execution_count": 5,
   "metadata": {
    "collapsed": false
   },
   "outputs": [
    {
     "name": "stdout",
     "output_type": "stream",
     "text": [
      "[(u'106.51.235.133', datetime.datetime(2015, 7, 22, 2, 40, 6, 499174, tzinfo=<iso8601.Utc>)), (u'115.250.16.146', datetime.datetime(2015, 7, 22, 2, 40, 6, 632589, tzinfo=<iso8601.Utc>)), (u'106.51.235.133', datetime.datetime(2015, 7, 22, 2, 40, 6, 633226, tzinfo=<iso8601.Utc>)), (u'52.74.219.71', datetime.datetime(2015, 7, 22, 2, 40, 6, 700160, tzinfo=<iso8601.Utc>)), (u'27.97.124.172', datetime.datetime(2015, 7, 22, 2, 40, 6, 734226, tzinfo=<iso8601.Utc>)), (u'106.78.125.179', datetime.datetime(2015, 7, 22, 2, 40, 6, 748057, tzinfo=<iso8601.Utc>)), (u'112.79.36.98', datetime.datetime(2015, 7, 22, 2, 40, 6, 770220, tzinfo=<iso8601.Utc>)), (u'119.81.61.166', datetime.datetime(2015, 7, 22, 2, 40, 6, 770390, tzinfo=<iso8601.Utc>)), (u'117.197.179.139', datetime.datetime(2015, 7, 22, 2, 40, 6, 798559, tzinfo=<iso8601.Utc>)), (u'1.39.14.113', datetime.datetime(2015, 7, 22, 2, 40, 6, 807216, tzinfo=<iso8601.Utc>))]\n"
     ]
    }
   ],
   "source": [
    "r3 = r1.sortBy(lambda x : x[1])\n",
    "print r3.take(10)"
   ]
  },
  {
   "cell_type": "code",
   "execution_count": 6,
   "metadata": {
    "collapsed": false
   },
   "outputs": [
    {
     "data": {
      "text/plain": [
       "[u'111.93.191.38',\n",
       " u'117.253.175.177',\n",
       " u'182.58.117.191',\n",
       " u'1.39.14.24',\n",
       " u'101.221.136.38',\n",
       " u'49.204.42.220',\n",
       " u'117.229.52.93',\n",
       " u'14.99.104.157',\n",
       " u'223.188.3.176',\n",
       " u'182.73.170.82']"
      ]
     },
     "execution_count": 6,
     "metadata": {},
     "output_type": "execute_result"
    }
   ],
   "source": [
    "r4 = r2.keys()\n",
    "r4.take(10)"
   ]
  },
  {
   "cell_type": "code",
   "execution_count": 7,
   "metadata": {
    "collapsed": false
   },
   "outputs": [
    {
     "data": {
      "text/plain": [
       "u'111.93.191.38'"
      ]
     },
     "execution_count": 7,
     "metadata": {},
     "output_type": "execute_result"
    }
   ],
   "source": [
    "ips = r4.collect()\n",
    "ips[0]"
   ]
  },
  {
   "cell_type": "code",
   "execution_count": 8,
   "metadata": {
    "collapsed": true
   },
   "outputs": [],
   "source": [
    "r5 = r2.filter(lambda x : x[0] == ips[0]).map(lambda x : (list(x[1])))"
   ]
  },
  {
   "cell_type": "code",
   "execution_count": 9,
   "metadata": {
    "collapsed": false,
    "scrolled": true
   },
   "outputs": [
    {
     "data": {
      "text/plain": [
       "[datetime.datetime(2015, 7, 22, 11, 3, 6, 822295, tzinfo=<iso8601.Utc>),\n",
       " datetime.datetime(2015, 7, 22, 11, 3, 7, 172746, tzinfo=<iso8601.Utc>),\n",
       " datetime.datetime(2015, 7, 22, 11, 3, 20, 425441, tzinfo=<iso8601.Utc>),\n",
       " datetime.datetime(2015, 7, 22, 11, 3, 20, 534736, tzinfo=<iso8601.Utc>),\n",
       " datetime.datetime(2015, 7, 22, 11, 3, 20, 538246, tzinfo=<iso8601.Utc>),\n",
       " datetime.datetime(2015, 7, 22, 11, 3, 20, 661165, tzinfo=<iso8601.Utc>),\n",
       " datetime.datetime(2015, 7, 22, 11, 3, 20, 738360, tzinfo=<iso8601.Utc>),\n",
       " datetime.datetime(2015, 7, 22, 11, 3, 25, 968647, tzinfo=<iso8601.Utc>),\n",
       " datetime.datetime(2015, 7, 22, 11, 3, 49, 151640, tzinfo=<iso8601.Utc>),\n",
       " datetime.datetime(2015, 7, 22, 11, 4, 35, 747713, tzinfo=<iso8601.Utc>),\n",
       " datetime.datetime(2015, 7, 22, 11, 4, 35, 823062, tzinfo=<iso8601.Utc>),\n",
       " datetime.datetime(2015, 7, 22, 11, 4, 43, 966443, tzinfo=<iso8601.Utc>)]"
      ]
     },
     "execution_count": 9,
     "metadata": {},
     "output_type": "execute_result"
    }
   ],
   "source": [
    "c = r5.collect()\n",
    "c[0]"
   ]
  },
  {
   "cell_type": "code",
   "execution_count": 33,
   "metadata": {
    "collapsed": false,
    "scrolled": false
   },
   "outputs": [
    {
     "ename": "AttributeError",
     "evalue": "'module' object has no attribute 'make_merge_value_func'",
     "output_type": "error",
     "traceback": [
      "\u001b[1;31m---------------------------------------------------------------------------\u001b[0m",
      "\u001b[1;31mAttributeError\u001b[0m                            Traceback (most recent call last)",
      "\u001b[1;32m<ipython-input-33-25affd62e092>\u001b[0m in \u001b[0;36m<module>\u001b[1;34m()\u001b[0m\n\u001b[0;32m      5\u001b[0m \u001b[0msession_time_mins\u001b[0m \u001b[1;33m=\u001b[0m \u001b[0mtimedelta\u001b[0m\u001b[1;33m(\u001b[0m\u001b[0mminutes\u001b[0m\u001b[1;33m=\u001b[0m\u001b[1;36m15\u001b[0m\u001b[1;33m)\u001b[0m\u001b[1;33m\u001b[0m\u001b[0m\n\u001b[0;32m      6\u001b[0m \u001b[1;33m\u001b[0m\u001b[0m\n\u001b[1;32m----> 7\u001b[1;33m \u001b[0mr6\u001b[0m \u001b[1;33m=\u001b[0m \u001b[0mr3\u001b[0m\u001b[1;33m.\u001b[0m\u001b[0mcombineByKey\u001b[0m\u001b[1;33m(\u001b[0m\u001b[0msessionizer\u001b[0m\u001b[1;33m.\u001b[0m\u001b[0mcombiner\u001b[0m\u001b[1;33m,\u001b[0m                     \u001b[0msessionizer\u001b[0m\u001b[1;33m.\u001b[0m\u001b[0mmake_merge_value_func\u001b[0m\u001b[1;33m(\u001b[0m\u001b[0msessions_time_mins\u001b[0m\u001b[1;33m)\u001b[0m\u001b[1;33m,\u001b[0m                     \u001b[0msessionizer\u001b[0m\u001b[1;33m.\u001b[0m\u001b[0mmake_merge_combiners_func\u001b[0m\u001b[1;33m(\u001b[0m\u001b[0msessions_time_mins\u001b[0m\u001b[1;33m)\u001b[0m\u001b[1;33m)\u001b[0m\u001b[1;33m\u001b[0m\u001b[0m\n\u001b[0m\u001b[0;32m      8\u001b[0m \u001b[1;33m\u001b[0m\u001b[0m\n\u001b[0;32m      9\u001b[0m \u001b[0mr6\u001b[0m\u001b[1;33m.\u001b[0m\u001b[0mtake\u001b[0m\u001b[1;33m(\u001b[0m\u001b[1;36m10\u001b[0m\u001b[1;33m)\u001b[0m\u001b[1;33m\u001b[0m\u001b[0m\n",
      "\u001b[1;31mAttributeError\u001b[0m: 'module' object has no attribute 'make_merge_value_func'"
     ]
    }
   ],
   "source": [
    "from analytics import sessionizer\n",
    "from datetime import *\n",
    "\n",
    "sessionizer.merge_value\n",
    "session_time_mins = timedelta(minutes=15)\n",
    "\n",
    "r6 = r3.combineByKey(sessionizer.combiner, \\\n",
    "                    sessionizer.make_merge_value_func(sessions_time_mins), \\\n",
    "                    sessionizer.make_merge_combiners_func(sessions_time_mins))\n",
    "\n",
    "r6.take(10)"
   ]
  },
  {
   "cell_type": "code",
   "execution_count": null,
   "metadata": {
    "collapsed": true
   },
   "outputs": [],
   "source": []
  }
 ],
 "metadata": {
  "kernelspec": {
   "display_name": "Python 2",
   "language": "python",
   "name": "python2"
  },
  "language_info": {
   "codemirror_mode": {
    "name": "ipython",
    "version": 2
   },
   "file_extension": ".py",
   "mimetype": "text/x-python",
   "name": "python",
   "nbconvert_exporter": "python",
   "pygments_lexer": "ipython2",
   "version": "2.7.12"
  }
 },
 "nbformat": 4,
 "nbformat_minor": 0
}
