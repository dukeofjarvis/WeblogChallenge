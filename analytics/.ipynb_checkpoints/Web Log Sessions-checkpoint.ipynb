{
 "cells": [
  {
   "cell_type": "markdown",
   "metadata": {},
   "source": [
    "# Sessionize by IP"
   ]
  },
  {
   "cell_type": "markdown",
   "metadata": {},
   "source": [
    "1. Clean and create temporary folder.  Unzip data."
   ]
  },
  {
   "cell_type": "code",
   "execution_count": 3,
   "metadata": {
    "collapsed": false
   },
   "outputs": [],
   "source": [
    "import shutil\n",
    "import os\n",
    "import gzip\n",
    "\n",
    "scriptpath = os.getcwd()\n",
    "tempdir = '.tmp'\n",
    "\n",
    "if os.path.exists(tempdir):\n",
    "    shutil.rmtree(tempdir)\n",
    "os.makedirs(tempdir)\n",
    "\n",
    "extractedlog = 'web.log'\n",
    "sourcepath = os.path.join(scriptpath, '../data/2015_07_22_mktplace_shop_web_log_sample.log.gz')\n",
    "destpath = os.path.join(scriptpath, tempdir, extractedlog)\n",
    "with gzip.open(sourcepath) as src, open(destpath, 'w') as dest:\n",
    "    content = src.read()\n",
    "    dest.write(content)"
   ]
  },
  {
   "cell_type": "code",
   "execution_count": null,
   "metadata": {
    "collapsed": true
   },
   "outputs": [],
   "source": []
  },
  {
   "cell_type": "code",
   "execution_count": null,
   "metadata": {
    "collapsed": true
   },
   "outputs": [],
   "source": []
  }
 ],
 "metadata": {
  "kernelspec": {
   "display_name": "Python 2",
   "language": "python",
   "name": "python2"
  },
  "language_info": {
   "codemirror_mode": {
    "name": "ipython",
    "version": 2
   },
   "file_extension": ".py",
   "mimetype": "text/x-python",
   "name": "python",
   "nbconvert_exporter": "python",
   "pygments_lexer": "ipython2",
   "version": "2.7.12"
  }
 },
 "nbformat": 4,
 "nbformat_minor": 0
}
